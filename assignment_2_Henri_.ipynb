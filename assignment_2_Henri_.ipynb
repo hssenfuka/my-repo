{
 "cells": [
  {
   "cell_type": "markdown",
   "id": "5f910d02",
   "metadata": {},
   "source": [
    "In the assignment, you are required to write a python script that generates random DNA sequences in FASTA format. Given the number of DNA sequences and the length of each sequence, the script should write to file the sequences in FASTA format. Each sequence line should be at most 80 nucleotides. The script will take command-line argument for the number of sequences to create, the length of each sequence, and the name of the output file."
   ]
  },
  {
   "cell_type": "code",
   "execution_count": 1,
   "id": "0c45b983",
   "metadata": {},
   "outputs": [],
   "source": [
    "import random\n",
    "import sys\n",
    "\n",
    "def generate_dna_sequence(length):\n",
    "    bases = ['A', 'T', 'C', 'G']\n",
    "    sequence = ''.join(random.choice(bases) for _ in range(length))\n",
    "    return sequence\n",
    "\n",
    "def write_sequences_to_file(num_sequences, sequence_length, output_file):\n",
    "    with open(output_file, 'w') as file:\n",
    "        for i in range(num_sequences):\n",
    "            sequence = generate_dna_sequence(sequence_length)\n",
    "            file.write(f'>Sequence {i+1}\\n')\n",
    "            for j in range(0, len(sequence), 80):\n",
    "                file.write(sequence[j:j+80] + '\\n')\n",
    "\n",
    "if __name__ == '__main__':\n",
    "    num_sequences = 5        \n",
    "sequence_length = 1000   \n",
    "output_file = \"output.fasta\"  \n",
    "\n",
    "\n",
    "write_sequences_to_file(num_sequences, sequence_length, output_file)"
   ]
  }
 ],
 "metadata": {
  "kernelspec": {
   "display_name": "base",
   "language": "python",
   "name": "python3"
  },
  "language_info": {
   "codemirror_mode": {
    "name": "ipython",
    "version": 3
   },
   "file_extension": ".py",
   "mimetype": "text/x-python",
   "name": "python",
   "nbconvert_exporter": "python",
   "pygments_lexer": "ipython3",
   "version": "3.12.8"
  }
 },
 "nbformat": 4,
 "nbformat_minor": 5
}
