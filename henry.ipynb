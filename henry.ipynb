{
 "cells": [
  {
   "cell_type": "markdown",
   "id": "a3ae81a2",
   "metadata": {},
   "source": []
  },
  {
   "cell_type": "markdown",
   "id": "4bc5b0d1",
   "metadata": {},
   "source": [
    "PROGRAM: MSc Bioinformatics\n",
    "UNIT: MSB7203 Biopython\n",
    "Year: 2024\n",
    "Semester: Two\n",
    "Assignment 1\n",
    "Section 1: 30 marks\n",
    "Instructions\n",
    "If you are reading this, you will have received and accepted the invitation to the exam from GitHub Classroom. Clone your repo to your local machine.\n",
    "\n",
    "Requirements:\n",
    "\n",
    "Access to a Linux or Mac terminal\n",
    "Installed Jupyter Notebooks\n",
    "You will be tested on the proper use of Git for version control, including the use of informative commit messages.\n",
    "Question 1: 30 Marks\n",
    "You have been provided with a BED file lamina.bed with the following format:\n",
    "\n",
    "chr     startPos    stop_Pos    read_quality\n",
    "\n",
    "chr1    11323785    11617177    0.86217008797654\n",
    "\n",
    "Write a program parse_bed.py that requests for a BED file from the user, and for each chromosome, calculates the number of reads and the average read quality.\n",
    "\n",
    "The program should load a menu below:\n",
    "\n",
    "Select an option\n",
    "  [R] Display read counts in each Chromosome\n",
    "  [D] Display the average read quality for each chromosome\n",
    "  [X] Exit\n",
    ":\n",
    "OptionR: When selected, the program should print the read counts for each chromosome to the console, as shown below for the first five chromosomes.\n",
    "\n",
    "Chr     count\n",
    "chr1    101\n",
    "chr2    100\n",
    "chr3    106\n",
    "chr4    94\n",
    "chr5    93\n",
    "  ...\n",
    "The read counts should also be printed to file. Bonus points if you can also display the chromosome counts ordered by the read counts in descending order.\n",
    "\n",
    "OptionD: When selected, the program should calculate the average read quality for each chromosome, and display the results to console as well as write to file:\n",
    "chr1    0.906\n",
    "chr2    0.901\n",
    "chr3    0.904\n",
    "chr4    0.914\n",
    "chr5    0.913\n",
    "...\n",
    "After each option, the program should return the user to the main menu, until the user enters X."
   ]
  },
  {
   "cell_type": "code",
   "execution_count": null,
   "id": "020a23e5",
   "metadata": {},
   "outputs": [],
   "source": [
    "# parse_bed.py\n",
    "\n",
    "import pandas as pd\n",
    "\n",
    "\n",
    "def load_bed_file():\n",
    "    file_path = input(\"https://github.com/Makerere-MSB/assignment1-hssenfuka/blob/main/Data/lamina.bed\").strip()\n",
    "    try:\n",
    "        bed_df = pd.read_csv(file_path, sep=\"\\t\", header=0)\n",
    "        if not all(col in bed_df.columns for col in [\"chr\", \"startPos\", \"stop_Pos\", \"read_quality\"]):\n",
    "            print(\"❌ BED file format incorrect. Required columns: chr, startPos, stop_Pos, read_quality\")\n",
    "            return None\n",
    "        return bed_df\n",
    "    except Exception as e:\n",
    "        print(f\"❌ Error reading BED file: {e}\")\n",
    "        return None\n",
    "\n",
    "def display_read_counts(bed_df):\n",
    "    counts = bed_df['chr'].value_counts().sort_values(ascending=False)\n",
    "    print(\"\\nChr\\tcount\")\n",
    "    for chr, count in counts.items():\n",
    "        print(f\"{chr}\\t{count}\")\n",
    "    counts.to_csv(\"read_counts.txt\", sep=\"\\t\", header=[\"count\"])\n",
    "    print(\"✅ Read counts saved to 'read_counts.txt'\\n\")\n",
    "\n",
    "def display_avg_quality(bed_df):\n",
    "    avg_qual = bed_df.groupby('chr')['read_quality'].mean().round(3)\n",
    "    print(\"\\nChr\\taverage_quality\")\n",
    "    for chr, avg in avg_qual.items():\n",
    "        print(f\"{chr}\\t{avg}\")\n",
    "    avg_qual.to_csv(\"average_read_quality.txt\", sep=\"\\t\", header=[\"average_quality\"])\n",
    "    print(\"✅ Average read quality saved to 'average_read_quality.txt'\\n\")\n",
    "\n",
    "def main():\n",
    "    bed_df = None\n",
    "    while bed_df is None:\n",
    "        bed_df = load_bed_file()\n",
    "   \n",
    "    while True:\n",
    "        print(\"\\nSelect an option\")\n",
    "        print(\"  [R] Display read counts in each Chromosome\")\n",
    "        print(\"  [D] Display the average read quality for each chromosome\")\n",
    "        print(\"  [X] Exit\")\n",
    "        choice = input(\":Option \").strip().upper()\n",
    "\n",
    "        if choice == \"R\":\n",
    "            display_read_counts(bed_df)\n",
    "        elif choice == \"D\":\n",
    "            display_avg_quality(bed_df)\n",
    "        elif choice == \"X\":\n",
    "            print(\"👋 Exiting program. Goodbye!\")\n",
    "            break\n",
    "        else:\n",
    "            print(\"❗ Invalid option. Please choose R, D, or X.\")\n",
    "\n",
    "if __name__ == \"__main__\":\n",
    "    main()"
   ]
  },
  {
   "cell_type": "markdown",
   "id": "473eca00",
   "metadata": {},
   "source": [
    " ### **Question 2: 30 Marks**\n",
    " \n",
    " **Part a: 5 marks**\n",
    "\n",
    "You are working on a Bioinformatics project. Create a folder called `LinuxSection`, which should be fully set up to ensure a reproducible project. Remember that each downloaded file should remain untouched through your analysis. The folder should contain a `README.md` file that outlines the structure and content of the directory. Provide the commands you used to perform the above."
   ]
  },
  {
   "cell_type": "code",
   "execution_count": 18,
   "id": "08861d5a",
   "metadata": {},
   "outputs": [
    {
     "ename": "SyntaxError",
     "evalue": "invalid syntax (2834705995.py, line 2)",
     "output_type": "error",
     "traceback": [
      "\u001b[0;36m  Cell \u001b[0;32mIn[18], line 2\u001b[0;36m\u001b[0m\n\u001b[0;31m    mkdir LinuxSection\u001b[0m\n\u001b[0m          ^\u001b[0m\n\u001b[0;31mSyntaxError\u001b[0m\u001b[0;31m:\u001b[0m invalid syntax\n"
     ]
    }
   ],
   "source": [
    "# Create the main project directory\n",
    "mkdir LinuxSection\n",
    "cd LinuxSection\n",
    "\n",
    "# Create the standard project structure\n",
    "mkdir -p data/raw              # For raw untouched input files\n",
    "mkdir -p data/processed        # For cleaned or transformed data\n",
    "mkdir -p scripts               # For all scripts used in analysis\n",
    "mkdir -p results               # For final outputs, figures, tables, etc.\n",
    "mkdir -p logs                  # For log files from tools/pipelines\n",
    "mkdir -p config                # For config files or parameters\n",
    "mkdir -p docs                  # For supplementary documentation\n",
    "\n",
    "# Create an empty README.md file\n",
    "touch README.md\n",
    "\n",
    "# Add a description to README.md using echo and EOF\n",
    "cat <<EOF > README.md\n",
    "# LinuxSection Bioinformatics Project\n",
    "\n",
    "This project is structured for reproducible and organized bioinformatics analyses.\n",
    "\n",
    "## Directory Structure\n",
    "\n",
    "- \\`data/raw/\\`: Contains raw input files (e.g., FASTQ, BAM, VCF). These files are not modified.\n",
    "- \\`data/processed/\\`: Processed or filtered versions of raw data.\n",
    "- \\`scripts/\\`: All analysis scripts (e.g., bash, python, R).\n",
    "- \\`results/\\`: Final output files such as result tables, summary stats, or plots.\n",
    "- \\`logs/\\`: Log files from tools (e.g., bwa, GATK, fastp).\n",
    "- \\`config/\\`: Configuration files for pipelines or software tools.\n",
    "- \\`docs/\\`: Documentation, protocols, or additional notes.\n",
    "\n",
    "## Usage Notes\n",
    "\n",
    "- All raw data should be stored in \\`data/raw/\\` and remain unmodified.\n",
    "- Scripts should be version-controlled and placed in \\`scripts/\\`.\n",
    "- Outputs from the pipeline should be redirected to \\`results/\\`.\n",
    "\n",
    "EOF"
   ]
  },
  {
   "cell_type": "markdown",
   "id": "9b860191",
   "metadata": {},
   "source": [
    "**Part b: 10 marks** \n",
    "\n",
    "The zipped file `genomic_data.zip` contains files you will use to answer the following questions. Write a bash script that: \n",
    "1. Downloads the zipped file from the following [link](https://github.com/kipkurui/Intro2Linux2019/raw/master/Data/genomic_data.zip) into the appropriate directory you created in part a.\n",
    "2. Extracts the contents of the file to the appropriate directory.\n",
    "3. Prints to console the number of files in `genomic_data`.\n",
    "4. Prints to console the number of `fasta` files in `genomic_data`."
   ]
  },
  {
   "cell_type": "code",
   "execution_count": null,
   "id": "4822d49d",
   "metadata": {},
   "outputs": [],
   "source": [
    "%%bash\n",
    "# Define the URL to download the genomic_data.zip file\n",
    "URL=\"https://github.com/kipkurui/Intro2Linux2019/raw/master/Data/genomic_data.zip\"\n",
    "mkdir -p LinuxSection\n",
    "\n",
    "# Download the genomic_data.zip file\n",
    "wget -nc -P LinuxSection $URL\n",
    "\n",
    "# Extract the contents of the zip file\n",
    "unzip LinuxSection/genomic_data.zip -d LinuxSection\n",
    "\n",
    "# Print the number of files in genomic_data\n",
    "num_files=$(ls LinuxSection/genomic_data | wc -l)\n",
    "echo \"Number of files in genomic_data: $num_files\"\n",
    "\n",
    "# Print the number of fasta files in genomic_data\n",
    "num_fasta_files=$(ls LinuxSection/genomic_data/*.fa | wc -l)\n",
    "echo \"Number of fasta files in genomic_data: $num_fasta_files\"\n"
   ]
  },
  {
   "cell_type": "markdown",
   "id": "9a84d887",
   "metadata": {},
   "source": [
    "**Part c: 10 marks**\n",
    "\n",
    "Write a script that counts the number of sequences in each `fasta` file in the `genomic_data`. It should print to console the name of the file and the number of sequences, each separated by a tab. For example, if `seq1.fa` has `10` sequences, it should print:\n",
    "\n",
    "`seq1:    10`"
   ]
  },
  {
   "cell_type": "code",
   "execution_count": 8,
   "id": "6b22c4a4",
   "metadata": {},
   "outputs": [
    {
     "name": "stdout",
     "output_type": "stream",
     "text": [
      "Pfb_seq:\t114\n",
      "gch1s-metazoan:\t9\n",
      "nrf1_seq:\t100\n",
      "sample:\t4\n"
     ]
    }
   ],
   "source": [
    "%%bash\n",
    "# Change to the genomic_data directory\n",
    "cd LinuxSection/genomic_data\n",
    "\n",
    "# Loop through all fasta files in the genomic_data directory\n",
    "for file in *.fa\n",
    "do\n",
    "    # Get the file name without the extension\n",
    "    file_basename=$(basename \"$file\" .fa)\n",
    "    \n",
    "    # Count the number of sequences in the fasta file\n",
    "    num_seqs=$(grep -c \"^>\" \"$file\")\n",
    "    \n",
    "    # Print the file name and number of sequences with a tab separator\n",
    "    echo -e \"$file_basename:\\t$num_seqs\"\n",
    "done"
   ]
  },
  {
   "cell_type": "markdown",
   "id": "0f622219",
   "metadata": {},
   "source": [
    "**Part d: 5 marks**\n",
    "\n",
    "Using the files downloaded in `part b`, write a script that extracts the sequence headers of all the fasta files, and writes the output in the Results directory to a file `all_sequence_headers.txt`."
   ]
  },
  {
   "cell_type": "code",
   "execution_count": 15,
   "id": "f52fad35",
   "metadata": {},
   "outputs": [
    {
     "name": "stdout",
     "output_type": "stream",
     "text": [
      "Sequence headers extracted and saved in LinuxSection/Results/all_sequence_headers.txt\n"
     ]
    }
   ],
   "source": [
    "%%bash\n",
    "# Define the input directory containing the fasta files\n",
    "input_dir=\"LinuxSection/genomic_data\"\n",
    "\n",
    "# Define the output directory to store the result\n",
    "output_dir=\"LinuxSection/Results\"\n",
    "mkdir -p \"$output_dir\"\n",
    "\n",
    "# Extract sequence headers from all fasta files\n",
    "for file in \"$input_dir\"/*.fa\n",
    "do\n",
    "    # Get the basename of the file\n",
    "    file_basename=$(basename \"$file\" .fa)\n",
    "    \n",
    "    # Extract sequence headers and append to all_sequence_headers.txt\n",
    "    grep \"^>\" \"$file\" | sed -e \"s/^>/$file_basename: /\" >> \"$output_dir/all_sequence_headers.txt\"\n",
    "done\n",
    "\n",
    "echo \"Sequence headers extracted and saved in $output_dir/all_sequence_headers.txt\""
   ]
  }
 ],
 "metadata": {
  "kernelspec": {
   "display_name": "base",
   "language": "python",
   "name": "python3"
  },
  "language_info": {
   "codemirror_mode": {
    "name": "ipython",
    "version": 3
   },
   "file_extension": ".py",
   "mimetype": "text/x-python",
   "name": "python",
   "nbconvert_exporter": "python",
   "pygments_lexer": "ipython3",
   "version": "3.12.8"
  }
 },
 "nbformat": 4,
 "nbformat_minor": 5
}
